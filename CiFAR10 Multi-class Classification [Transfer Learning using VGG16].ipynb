{
  "cells": [
    {
      "cell_type": "markdown",
      "metadata": {
        "id": "iVA6zETfyMl6"
      },
      "source": [
        "**Training Accuracy =   99.98%**    \n",
        "**Validation Accuracy = 93.09%**\n",
        "\n",
        "**Changes Made:**\n",
        "**1- Upsampling by a factor of (2,2).**\n",
        "\n",
        "**2- Additional Dense Layers of 512, 128, 64, and 32 layers.**\n",
        "\n",
        "**3- experimented with a different optimizer 'RMSprop' instead of Adam, but chose Adam optimizer eventually.**\n",
        "\n",
        "**4- Initiated the learning rate at 0.0001**\n",
        "\n",
        "**5- Applied reducing of learning rate on Plateau with a factor = 0.3 and patience = 2, to improve model convergence by dynamically adjusting the learning rate based on performance during training.**\n",
        "\n",
        "**6- Increased batch size to 128.**\n",
        "\n",
        "**7- Applied early stopping to stop overfitting.**"
      ]
    },
    {
      "cell_type": "code",
      "execution_count": null,
      "metadata": {
        "id": "AZtPLiekRK46"
      },
      "outputs": [],
      "source": [
        "import tensorflow as tf\n",
        "from tensorflow.keras.applications import VGG16\n",
        "from tensorflow.keras.layers import Input, Dense, Dropout, Flatten, GlobalAveragePooling2D, UpSampling2D, BatchNormalization\n",
        "from tensorflow.keras.models import Sequential\n",
        "from tensorflow.keras.models import Model\n",
        "from tensorflow.keras.datasets import cifar10\n",
        "from tensorflow.keras.utils import to_categorical\n",
        "from sklearn.model_selection import train_test_split\n",
        "from tensorflow.keras.preprocessing.image import ImageDataGenerator\n",
        "import matplotlib.pyplot as plt\n",
        "from tensorflow.keras.optimizers import Adam,RMSprop"
      ]
    },
    {
      "cell_type": "code",
      "execution_count": null,
      "metadata": {
        "colab": {
          "base_uri": "https://localhost:8080/"
        },
        "id": "vYaH7q1ZR6BA",
        "outputId": "fd3382e6-1d73-4222-d7ac-1619138d0a0f"
      },
      "outputs": [
        {
          "name": "stdout",
          "output_type": "stream",
          "text": [
            "Found GPU at: /device:GPU:0\n",
            "Using GPU\n"
          ]
        }
      ],
      "source": [
        "# Enable GPU from Google Colab\n",
        "device_name = tf.test.gpu_device_name()\n",
        "if device_name != '/device:GPU:0':\n",
        "    print('GPU device not found')\n",
        "else:\n",
        "    print('Found GPU at: {}'.format(device_name))\n",
        "    print('Using GPU')\n",
        "    tf.config.experimental.set_memory_growth(tf.config.list_physical_devices('GPU')[0], True)\n"
      ]
    },
    {
      "cell_type": "code",
      "execution_count": null,
      "metadata": {
        "id": "_GZgl82wSEaB"
      },
      "outputs": [],
      "source": [
        "# Load CIFAR-10 dataset\n",
        "(x_train, y_train), (x_test, y_test) = cifar10.load_data()\n"
      ]
    },
    {
      "cell_type": "code",
      "execution_count": null,
      "metadata": {
        "id": "9OXEniA6SjCQ"
      },
      "outputs": [],
      "source": [
        "# Normalize pixel values\n",
        "x_train = x_train / 255.0\n",
        "x_test = x_test / 255.0\n",
        "\n",
        "# Convert labels to one-hot encoded format\n",
        "y_train = to_categorical(y_train, num_classes=10)\n",
        "y_test = to_categorical(y_test, num_classes=10)"
      ]
    },
    {
      "cell_type": "code",
      "execution_count": null,
      "metadata": {
        "id": "bu4vVaOJdp2K"
      },
      "outputs": [],
      "source": [
        "# Split training data into training and validation sets\n",
        "x_train, x_val, y_train, y_val = train_test_split(x_train, y_train, test_size=0.1, random_state=42)\n"
      ]
    },
    {
      "cell_type": "markdown",
      "metadata": {
        "id": "ZAj5euQhb8eP"
      },
      "source": [
        "After many experiments, I found that **upsampling the input images by a factor of (2,2) to achieve an input shape of (64,64,3) was beneficial**. This adjustment eased computational burden while still increasing spatial resolution. It struck a balance, enhancing model performance without significantly prolonging the training process.\n",
        "\n",
        "To enhance the model's capacity to learn complex patterns, I introduced **additional dense layers with 512, 128, 64, and 32 neurons**, respectively. These layers provide the model with more parameters and non-linear transformations, potentially enabling it to capture intricate features in the data.\n",
        "\n",
        "I initiated the **training with a learning rate of 0.0001**. Additionally, I incorporated the **ReduceOnPlateau function to dynamically adjust the learning rate during training**. This strategy ensures that the learning rate is reduced when necessary."
      ]
    },
    {
      "cell_type": "code",
      "execution_count": null,
      "metadata": {
        "colab": {
          "base_uri": "https://localhost:8080/"
        },
        "id": "NHZubMIbSp7i",
        "outputId": "c8901570-117f-45ab-a657-c3b1b9b94955"
      },
      "outputs": [
        {
          "name": "stdout",
          "output_type": "stream",
          "text": [
            "Model: \"sequential_2\"\n",
            "_________________________________________________________________\n",
            " Layer (type)                Output Shape              Param #   \n",
            "=================================================================\n",
            " up_sampling2d_2 (UpSamplin  (None, 64, 64, 3)         0         \n",
            " g2D)                                                            \n",
            "                                                                 \n",
            " vgg16 (Functional)          (None, 2, 2, 512)         14714688  \n",
            "                                                                 \n",
            " global_average_pooling2d_2  (None, 512)               0         \n",
            "  (GlobalAveragePooling2D)                                       \n",
            "                                                                 \n",
            " flatten_2 (Flatten)         (None, 512)               0         \n",
            "                                                                 \n",
            " dense_10 (Dense)            (None, 512)               262656    \n",
            "                                                                 \n",
            " dense_11 (Dense)            (None, 128)               65664     \n",
            "                                                                 \n",
            " dense_12 (Dense)            (None, 64)                8256      \n",
            "                                                                 \n",
            " dense_13 (Dense)            (None, 32)                2080      \n",
            "                                                                 \n",
            " dense_14 (Dense)            (None, 10)                330       \n",
            "                                                                 \n",
            "=================================================================\n",
            "Total params: 15053674 (57.43 MB)\n",
            "Trainable params: 15053674 (57.43 MB)\n",
            "Non-trainable params: 0 (0.00 Byte)\n",
            "_________________________________________________________________\n"
          ]
        }
      ],
      "source": [
        "# Define the model\n",
        "model = Sequential([\n",
        "    Input(shape=(32, 32, 3)),\n",
        "    UpSampling2D(size=(2, 2)),\n",
        "    VGG16(input_shape=(64, 64, 3), include_top=False, weights='imagenet', pooling='none'),\n",
        "    GlobalAveragePooling2D(),\n",
        "    Flatten(),\n",
        "    Dense(512, activation='relu'),\n",
        "    Dense(128, activation='relu'),\n",
        "    Dense(64, activation='relu'),\n",
        "    Dense(32, activation='relu'),\n",
        "    Dense(10, activation='softmax')\n",
        "])\n",
        "optimizer = Adam(learning_rate=0.0001)\n",
        "model.compile(optimizer=optimizer, loss='categorical_crossentropy', metrics=['acc'])\n",
        "\n",
        "model.summary()"
      ]
    },
    {
      "cell_type": "markdown",
      "metadata": {
        "id": "dx4biAobdGou"
      },
      "source": [
        "**I added a learning rate scheduler to reduce the learning rate with a factor of 0.3 such that since the initial learning rate is 0.0001 and factor=0.3, after the callback triggers a reduction, the learning rate will become 0.0001 * 0.3 = 0.00003.and chose min learning rate to be 1e^-7. The numbers were adjusted after trials**\n",
        "\n",
        "**I also increased the batch size to 128, because bigger batch sizes can utilize the computational resources more efficiently and will lead to faster training.**\n",
        "\n",
        "**I applied early stopping with patience = 5 to prevent overfitting, improve generalization and save training time.**"
      ]
    },
    {
      "cell_type": "code",
      "execution_count": null,
      "metadata": {
        "colab": {
          "base_uri": "https://localhost:8080/"
        },
        "id": "zHmX2H3DSwib",
        "outputId": "035faa17-51cb-4e10-95f9-22f5a4ac62fd"
      },
      "outputs": [
        {
          "name": "stdout",
          "output_type": "stream",
          "text": [
            "Epoch 1/40\n",
            "352/352 [==============================] - 58s 152ms/step - loss: 0.7908 - acc: 0.7327 - val_loss: 0.4832 - val_acc: 0.8420 - lr: 1.0000e-04\n",
            "Epoch 2/40\n",
            "352/352 [==============================] - 54s 152ms/step - loss: 0.3624 - acc: 0.8780 - val_loss: 0.3831 - val_acc: 0.8682 - lr: 1.0000e-04\n",
            "Epoch 3/40\n",
            "352/352 [==============================] - 52s 147ms/step - loss: 0.2282 - acc: 0.9238 - val_loss: 0.4042 - val_acc: 0.8617 - lr: 1.0000e-04\n",
            "Epoch 4/40\n",
            "352/352 [==============================] - 52s 148ms/step - loss: 0.1567 - acc: 0.9456 - val_loss: 0.3028 - val_acc: 0.8989 - lr: 1.0000e-04\n",
            "Epoch 5/40\n",
            "352/352 [==============================] - 52s 149ms/step - loss: 0.1096 - acc: 0.9627 - val_loss: 0.2842 - val_acc: 0.9123 - lr: 1.0000e-04\n",
            "Epoch 6/40\n",
            "352/352 [==============================] - 53s 149ms/step - loss: 0.0757 - acc: 0.9746 - val_loss: 0.3304 - val_acc: 0.9060 - lr: 1.0000e-04\n",
            "Epoch 7/40\n",
            "352/352 [==============================] - 52s 149ms/step - loss: 0.0639 - acc: 0.9776 - val_loss: 0.3346 - val_acc: 0.9065 - lr: 1.0000e-04\n",
            "Epoch 8/40\n",
            "352/352 [==============================] - 52s 149ms/step - loss: 0.0112 - acc: 0.9967 - val_loss: 0.3342 - val_acc: 0.9260 - lr: 3.0000e-05\n",
            "Epoch 9/40\n",
            "352/352 [==============================] - 54s 155ms/step - loss: 0.0020 - acc: 0.9996 - val_loss: 0.3685 - val_acc: 0.9273 - lr: 3.0000e-05\n",
            "Epoch 10/40\n",
            "352/352 [==============================] - 53s 149ms/step - loss: 7.8981e-04 - acc: 0.9998 - val_loss: 0.3672 - val_acc: 0.9309 - lr: 9.0000e-06\n"
          ]
        }
      ],
      "source": [
        "from tensorflow.keras.callbacks import EarlyStopping\n",
        "from tensorflow.keras.callbacks import ReduceLROnPlateau\n",
        "\n",
        "# Define a learning rate scheduler\n",
        "lr_scheduler = ReduceLROnPlateau(factor=0.3, patience=2, min_lr=1e-7)\n",
        "early_stopping = EarlyStopping(monitor='val_loss', patience=5, restore_best_weights=True)\n",
        "\n",
        "history = model.fit(x_train, y_train, epochs=40, validation_data = (x_test, y_test), batch_size=128, callbacks=[early_stopping,lr_scheduler])"
      ]
    },
    {
      "cell_type": "code",
      "execution_count": null,
      "metadata": {
        "colab": {
          "base_uri": "https://localhost:8080/",
          "height": 430
        },
        "id": "dY-sAZnESygJ",
        "outputId": "bc093bce-bd07-4f1e-bf43-08b699299df7"
      },
      "outputs": [
        {
          "data": {
            "image/png": "[encoded data removed]",
            "text/plain": [
              "<Figure size 640x480 with 2 Axes>"
            ]
          },
          "metadata": {},
          "output_type": "display_data"
        }
      ],
      "source": [
        "fig, ax = plt.subplots(2,1)\n",
        "ax[0].plot(history.history['loss'], color='b', label=\"Training Loss\")\n",
        "ax[0].plot(history.history['val_loss'], color='r', label=\"Validation Loss\",axes =ax[0])\n",
        "legend = ax[0].legend(loc='best', shadow=True)\n",
        "\n",
        "ax[1].plot(history.history['acc'], color='b', label=\"Training Accuracy\")\n",
        "ax[1].plot(history.history['val_acc'], color='r',label=\"Validation Accuracy\")\n",
        "legend = ax[1].legend(loc='best', shadow=True)"
      ]
    }
  ],
  "metadata": {
    "accelerator": "GPU",
    "colab": {
      "gpuType": "T4",
      "provenance": []
    },
    "kernelspec": {
      "display_name": "Python 3",
      "name": "python3"
    },
    "language_info": {
      "name": "python"
    }
  },
  "nbformat": 4,
  "nbformat_minor": 0
}
